{
 "cells": [
  {
   "cell_type": "code",
   "execution_count": 33,
   "metadata": {},
   "outputs": [],
   "source": [
    "from selenium import webdriver\n",
    "from selenium.webdriver.firefox.service import Service\n",
    "from selenium.webdriver.firefox.options import Options\n",
    "from selenium.webdriver.common.by import By\n",
    "from selenium.webdriver.support.ui import Select\n",
    "\n",
    "import pandas as pd\n",
    "import time"
   ]
  },
  {
   "cell_type": "code",
   "execution_count": 34,
   "metadata": {},
   "outputs": [],
   "source": [
    "# Set up Firefox options\n",
    "firefox_options = Options()\n",
    "firefox_options.add_argument(\"--headless\")"
   ]
  },
  {
   "cell_type": "code",
   "execution_count": 35,
   "metadata": {},
   "outputs": [],
   "source": [
    "# define the website to scrape and path where the geckodriver is located\n",
    "\n",
    "website = \"https://www.adamchoi.co.uk/teamgoals/detailed\"\n",
    "path_to_geckodriver = \"/usr/bin/geckodriver\""
   ]
  },
  {
   "cell_type": "code",
   "execution_count": 36,
   "metadata": {},
   "outputs": [],
   "source": [
    "# Set up the Service object with the path to ChromeDriver\n",
    "service = Service(path_to_geckodriver)"
   ]
  },
  {
   "cell_type": "code",
   "execution_count": 37,
   "metadata": {},
   "outputs": [],
   "source": [
    "# Initialize the WebDriver\n",
    "driver = webdriver.Firefox(service=service, options=firefox_options)\n",
    "\n",
    "# open Google Chrome with chromedriver\n",
    "driver.get(website)"
   ]
  },
  {
   "cell_type": "code",
   "execution_count": 38,
   "metadata": {},
   "outputs": [
    {
     "name": "stdout",
     "output_type": "stream",
     "text": [
      "Team Goals\n"
     ]
    }
   ],
   "source": [
    "# Print the page title to verify it worked\n",
    "print(driver.title)"
   ]
  },
  {
   "cell_type": "code",
   "execution_count": 39,
   "metadata": {},
   "outputs": [],
   "source": [
    "# Locate a button using the updated method\n",
    "all_matches_button = driver.find_element(By.XPATH, '//label[@analytics-event=\"All matches\"]')\n",
    "\n",
    "# Click on the button\n",
    "all_matches_button.click()"
   ]
  },
  {
   "cell_type": "code",
   "execution_count": 40,
   "metadata": {},
   "outputs": [],
   "source": [
    "# Using the \"box\" section as a reference to help us locate an element inside\n",
    "box = driver.find_element(By.CLASS_NAME, 'panel-body')"
   ]
  },
  {
   "cell_type": "code",
   "execution_count": 41,
   "metadata": {},
   "outputs": [],
   "source": [
    "# Select dropdown and select element inside by visible text\n",
    "dropdown = Select(box.find_element(By.ID, 'country'))\n",
    "dropdown.select_by_visible_text('Spain')"
   ]
  },
  {
   "cell_type": "code",
   "execution_count": 42,
   "metadata": {},
   "outputs": [],
   "source": [
    "# Implicit wait (useful in JavaScript driven websites when elements need seconds to load and avoid error \"ElementNotVisibleException\")\n",
    "time.sleep(5)"
   ]
  },
  {
   "cell_type": "code",
   "execution_count": 43,
   "metadata": {},
   "outputs": [],
   "source": [
    "# Select elements in the table\n",
    "matches = driver.find_elements(By.CSS_SELECTOR, 'tr')"
   ]
  },
  {
   "cell_type": "code",
   "execution_count": 44,
   "metadata": {},
   "outputs": [],
   "source": [
    "# storage in a list\n",
    "all_matches = [match.text for match in matches]"
   ]
  },
  {
   "cell_type": "code",
   "execution_count": 45,
   "metadata": {},
   "outputs": [],
   "source": [
    "#quit drive we opened in the beginning\n",
    "driver.quit()"
   ]
  },
  {
   "cell_type": "code",
   "execution_count": 46,
   "metadata": {},
   "outputs": [
    {
     "name": "stdout",
     "output_type": "stream",
     "text": [
      "                                             goals\n",
      "0                    16-08-2024 Celta 2 - 1 Alaves\n",
      "1           Next match: 25-08-2024 Alaves vs Betis\n",
      "2               15-08-2024 Ath Bilbao 1 - 1 Getafe\n",
      "3   Next match: 24-08-2024 Barcelona vs Ath Bilbao\n",
      "4              17-08-2024 Valencia 1 - 2 Barcelona\n",
      "5   Next match: 24-08-2024 Barcelona vs Ath Bilbao\n",
      "6                    15-08-2024 Betis 1 - 1 Girona\n",
      "7           Next match: 25-08-2024 Alaves vs Betis\n",
      "8                    16-08-2024 Celta 2 - 1 Alaves\n",
      "9         Next match: 23-08-2024 Celta vs Valencia\n",
      "10              15-08-2024 Ath Bilbao 1 - 1 Getafe\n",
      "11      Next match: 24-08-2024 Getafe vs Vallecano\n",
      "12                   15-08-2024 Betis 1 - 1 Girona\n",
      "13             16-08-2024 Las Palmas 2 - 2 Sevilla\n",
      "14    Next match: 25-08-2024 Leganes vs Las Palmas\n",
      "15                17-08-2024 Osasuna 1 - 1 Leganes\n",
      "16    Next match: 25-08-2024 Leganes vs Las Palmas\n",
      "17           18-08-2024 Mallorca 1 - 1 Real Madrid\n",
      "18      Next match: 24-08-2024 Osasuna vs Mallorca\n",
      "19                17-08-2024 Osasuna 1 - 1 Leganes\n",
      "20      Next match: 24-08-2024 Osasuna vs Mallorca\n",
      "21           18-08-2024 Mallorca 1 - 1 Real Madrid\n",
      "22             16-08-2024 Las Palmas 2 - 2 Sevilla\n",
      "23             18-08-2024 Sociedad 1 - 2 Vallecano\n",
      "24             17-08-2024 Valencia 1 - 2 Barcelona\n",
      "25        Next match: 23-08-2024 Celta vs Valencia\n",
      "26             18-08-2024 Sociedad 1 - 2 Vallecano\n",
      "27      Next match: 24-08-2024 Getafe vs Vallecano\n"
     ]
    }
   ],
   "source": [
    "#  Create Dataframe in Pandas and export to CSV (Excel)\n",
    "df = pd.DataFrame({'goals': all_matches})\n",
    "print(df)"
   ]
  },
  {
   "cell_type": "code",
   "execution_count": 47,
   "metadata": {},
   "outputs": [],
   "source": [
    "df.to_csv('Football.csv', index=False)"
   ]
  }
 ],
 "metadata": {
  "kernelspec": {
   "display_name": "webvenv",
   "language": "python",
   "name": "python3"
  },
  "language_info": {
   "codemirror_mode": {
    "name": "ipython",
    "version": 3
   },
   "file_extension": ".py",
   "mimetype": "text/x-python",
   "name": "python",
   "nbconvert_exporter": "python",
   "pygments_lexer": "ipython3",
   "version": "3.10.13"
  }
 },
 "nbformat": 4,
 "nbformat_minor": 2
}
